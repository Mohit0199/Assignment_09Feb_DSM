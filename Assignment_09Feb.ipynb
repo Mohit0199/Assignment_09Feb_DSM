{
 "cells": [
  {
   "cell_type": "code",
   "execution_count": 5,
   "id": "a9037d6d-966a-4a21-ae96-32107bf8e538",
   "metadata": {},
   "outputs": [
    {
     "name": "stdout",
     "output_type": "stream",
     "text": [
      "Vehicle name: Defender\n",
      "Max speed: 150\n",
      "Average: 10\n"
     ]
    }
   ],
   "source": [
    "# Q1, Create a vehicle class with an init method having instance variables as name_of_vehicle, max_speed \n",
    "# and average_of_vehicle. \n",
    "\n",
    "class Vehicle:\n",
    "    \n",
    "    def __init__(self, name, maxspeed, avg):\n",
    "        self.name_of_vehicle = name\n",
    "        self.max_speed = maxspeed\n",
    "        self.average_of_vehicle = avg\n",
    "        \n",
    "        \n",
    "v1 = Vehicle(\"Defender\", \"150\", \"10\")\n",
    "print(f\"Vehicle name: {v1.name_of_vehicle}\\nMax speed: {v1.max_speed}\\nAverage: {v1.average_of_vehicle}\")"
   ]
  },
  {
   "cell_type": "code",
   "execution_count": 8,
   "id": "2d2790b0-985c-42cd-8da6-7f559f357916",
   "metadata": {},
   "outputs": [
    {
     "name": "stdout",
     "output_type": "stream",
     "text": [
      "Name of Vehicle: Defender. Seating Capacity is 5\n"
     ]
    }
   ],
   "source": [
    "# Q2.  Create a child class car from the vehicle class created in Que 1, which will inherit the vehicle class. \n",
    "# Create a method named seating_capacity which takes capacity as an argument and returns the name of \n",
    "# the vehicle and its seating capacity.\n",
    "\n",
    "class Car(Vehicle):\n",
    "    \n",
    "    def __init__(self, name, maxspeed, avg):\n",
    "        super().__init__(name, maxspeed, avg)\n",
    "        \n",
    "    def seating_capacity(self, capacity):\n",
    "        return f\"Name of Vehicle: {self.name_of_vehicle}. Seating Capacity is {capacity}\"\n",
    "    \n",
    "c1 = Car(\"Defender\", \"150\", \"10\")\n",
    "print(c1.seating_capacity(5))"
   ]
  },
  {
   "cell_type": "code",
   "execution_count": 9,
   "id": "8e388bf7-151b-432e-930b-eb1bde53bdc6",
   "metadata": {},
   "outputs": [
    {
     "name": "stdout",
     "output_type": "stream",
     "text": [
      "This is from Parent1 class\n",
      "This is from Parent2 class\n"
     ]
    }
   ],
   "source": [
    "# Q3. What is multiple inheritance? Write a python code to demonstrate multiple inheritance.\n",
    "\n",
    "## Multiple Inheritance means one child class have multiple parent classes. It means\n",
    "## a subclass is inherited from two or more than two classes.\n",
    "\n",
    "class Parent1:\n",
    "    \n",
    "    def method1(self):\n",
    "        return \"This is from Parent1 class\"\n",
    "    \n",
    "class Parent2:\n",
    "    \n",
    "    def method2(self):\n",
    "        return \"This is from Parent2 class\"\n",
    "    \n",
    "class Child(Parent1, Parent2):\n",
    "    pass\n",
    "\n",
    "\n",
    "c1 = Child()\n",
    "print(c1.method1())\n",
    "print(c1.method2())"
   ]
  },
  {
   "cell_type": "code",
   "execution_count": 10,
   "id": "149b8752-47c1-418f-b0a1-3ce5d7274682",
   "metadata": {},
   "outputs": [
    {
     "name": "stdout",
     "output_type": "stream",
     "text": [
      "Mohit\n",
      "Rohit\n"
     ]
    }
   ],
   "source": [
    "# Q4. What are getter and setter in python? Create a class and create a getter and a setter method in this \n",
    "# class.\n",
    "\n",
    "## Getter and Setter methods are used acess and modify private variables of class.\n",
    "\n",
    "class Student:\n",
    "    \n",
    "    def __init__(self, name):\n",
    "        self.__name = name\n",
    "        \n",
    "    def get_name(self):\n",
    "        return self.__name\n",
    "    \n",
    "    def set_name(self, new_name):\n",
    "        self.__name = new_name\n",
    "        \n",
    "s1 = Student(\"Mohit\")\n",
    "print(s1.get_name())\n",
    "\n",
    "s1.set_name('Rohit')\n",
    "print(s1.get_name())"
   ]
  },
  {
   "cell_type": "code",
   "execution_count": 15,
   "id": "02eca774-6849-4892-a7de-af078ecd3d2e",
   "metadata": {},
   "outputs": [
    {
     "name": "stdout",
     "output_type": "stream",
     "text": [
      "Animal Sound: Generic Animal Sound\n",
      "Dog Sound: Woof\n"
     ]
    }
   ],
   "source": [
    "# Q5.What is method overriding in python? Write a python code to demonstrate method overriding.\n",
    "\n",
    "## Method overriding in Python occurs when a child class defines a method with the same name as a method in its parent class.\n",
    "## The method in the child class overrides the method in the parent class, providing a new implementation for that method.\n",
    "## This allows the child class to customize the behavior of the method without modifying the parent class's implementation.\n",
    "\n",
    "class Animal:\n",
    "    def sound(self):\n",
    "        return \"Generic Animal Sound\"\n",
    "\n",
    "class Dog(Animal):\n",
    "    def sound(self):\n",
    "        return \"Woof\"\n",
    "\n",
    "\n",
    "animal = Animal()\n",
    "dog = Dog()\n",
    "\n",
    "print(f\"Animal Sound: {animal.sound()}\")\n",
    "print(f\"Dog Sound: {dog.sound()}\")"
   ]
  },
  {
   "cell_type": "code",
   "execution_count": null,
   "id": "eea67c37-e000-4ae3-8deb-adb973ea2cae",
   "metadata": {},
   "outputs": [],
   "source": []
  },
  {
   "cell_type": "code",
   "execution_count": null,
   "id": "5bdbc6d2-e2ef-4359-b2b8-f86dff13c039",
   "metadata": {},
   "outputs": [],
   "source": []
  }
 ],
 "metadata": {
  "kernelspec": {
   "display_name": "Python 3 (ipykernel)",
   "language": "python",
   "name": "python3"
  },
  "language_info": {
   "codemirror_mode": {
    "name": "ipython",
    "version": 3
   },
   "file_extension": ".py",
   "mimetype": "text/x-python",
   "name": "python",
   "nbconvert_exporter": "python",
   "pygments_lexer": "ipython3",
   "version": "3.10.8"
  }
 },
 "nbformat": 4,
 "nbformat_minor": 5
}
